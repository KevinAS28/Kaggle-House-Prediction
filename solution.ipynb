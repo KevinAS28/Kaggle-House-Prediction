{
  "nbformat": 4,
  "nbformat_minor": 0,
  "metadata": {
    "kernelspec": {
      "display_name": "Python 3",
      "language": "python",
      "name": "python3"
    },
    "language_info": {
      "codemirror_mode": {
        "name": "ipython",
        "version": 3
      },
      "file_extension": ".py",
      "mimetype": "text/x-python",
      "name": "python",
      "nbconvert_exporter": "python",
      "pygments_lexer": "ipython3",
      "version": "3.7.6"
    },
    "colab": {
      "name": "Preparation",
      "provenance": [],
      "collapsed_sections": [],
      "include_colab_link": true
    }
  },
  "cells": [
    {
      "cell_type": "markdown",
      "metadata": {
        "id": "view-in-github",
        "colab_type": "text"
      },
      "source": [
        "<a href=\"https://colab.research.google.com/github/KevinAS28/Kaggle-House-Prediction/blob/master/solution.ipynb\" target=\"_parent\"><img src=\"https://colab.research.google.com/assets/colab-badge.svg\" alt=\"Open In Colab\"/></a>"
      ]
    },
    {
      "cell_type": "markdown",
      "metadata": {
        "id": "O_1_jS9zAr1D",
        "colab_type": "text"
      },
      "source": [
        "# Mount Your Google Drive"
      ]
    },
    {
      "cell_type": "code",
      "metadata": {
        "id": "6YhUdI--lzeY",
        "colab_type": "code",
        "colab": {
          "base_uri": "https://localhost:8080/",
          "height": 127
        },
        "outputId": "a5ed1aa9-e287-4c30-8a40-95e6d606ab04"
      },
      "source": [
        "import os\n",
        "from google.colab import drive\n",
        "drive.mount(\"/content/gdrive\")\n",
        "os.listdir(\"/content/gdrive/My Drive\")\n",
        "mygdrive = \"/content/gdrive/My Drive\""
      ],
      "execution_count": null,
      "outputs": [
        {
          "output_type": "stream",
          "text": [
            "Go to this URL in a browser: https://accounts.google.com/o/oauth2/auth?client_id=947318989803-6bn6qk8qdgf4n4g3pfee6491hc0brc4i.apps.googleusercontent.com&redirect_uri=urn%3aietf%3awg%3aoauth%3a2.0%3aoob&scope=email%20https%3a%2f%2fwww.googleapis.com%2fauth%2fdocs.test%20https%3a%2f%2fwww.googleapis.com%2fauth%2fdrive%20https%3a%2f%2fwww.googleapis.com%2fauth%2fdrive.photos.readonly%20https%3a%2f%2fwww.googleapis.com%2fauth%2fpeopleapi.readonly&response_type=code\n",
            "\n",
            "Enter your authorization code:\n",
            "··········\n",
            "Mounted at /content/gdrive\n"
          ],
          "name": "stdout"
        }
      ]
    },
    {
      "cell_type": "markdown",
      "metadata": {
        "id": "xL3ZbskeAxvc",
        "colab_type": "text"
      },
      "source": [
        "# Syncronize with your kaggle"
      ]
    },
    {
      "cell_type": "code",
      "metadata": {
        "id": "3cM5mzespkbh",
        "colab_type": "code",
        "colab": {
          "base_uri": "https://localhost:8080/",
          "height": 233
        },
        "outputId": "3dbbd01e-ad12-41f1-8019-3c9ce778c411"
      },
      "source": [
        "kaggle_dir = \"/content/.kaggle\"\n",
        "if not os.path.isdir(kaggle_dir):\n",
        "  os.makedirs(kaggle_dir)\n",
        "\n",
        "!mkdir ~/.kaggle\n",
        "!touch ~/.kaggle/kaggle.json\n",
        "\n",
        "!pip install kaggle\n",
        "api_token = {\"username\":\"kevinas\",\"key\":\"8a77a9bc8bd0a61347de655ec9442f2a\"}\n",
        "import json\n",
        "import zipfile\n",
        "import os\n",
        "with open('/root/.kaggle/kaggle.json', 'w+') as file:\n",
        "    json.dump(api_token, file)\n",
        "!chmod 600 ~/.kaggle/kaggle.json\n",
        "!kaggle config set -n path -v /root"
      ],
      "execution_count": null,
      "outputs": [
        {
          "output_type": "stream",
          "text": [
            "Requirement already satisfied: kaggle in /usr/local/lib/python3.6/dist-packages (1.5.6)\n",
            "Requirement already satisfied: certifi in /usr/local/lib/python3.6/dist-packages (from kaggle) (2020.6.20)\n",
            "Requirement already satisfied: python-slugify in /usr/local/lib/python3.6/dist-packages (from kaggle) (4.0.1)\n",
            "Requirement already satisfied: python-dateutil in /usr/local/lib/python3.6/dist-packages (from kaggle) (2.8.1)\n",
            "Requirement already satisfied: six>=1.10 in /usr/local/lib/python3.6/dist-packages (from kaggle) (1.15.0)\n",
            "Requirement already satisfied: requests in /usr/local/lib/python3.6/dist-packages (from kaggle) (2.23.0)\n",
            "Requirement already satisfied: tqdm in /usr/local/lib/python3.6/dist-packages (from kaggle) (4.41.1)\n",
            "Requirement already satisfied: urllib3<1.25,>=1.21.1 in /usr/local/lib/python3.6/dist-packages (from kaggle) (1.24.3)\n",
            "Requirement already satisfied: text-unidecode>=1.3 in /usr/local/lib/python3.6/dist-packages (from python-slugify->kaggle) (1.3)\n",
            "Requirement already satisfied: chardet<4,>=3.0.2 in /usr/local/lib/python3.6/dist-packages (from requests->kaggle) (3.0.4)\n",
            "Requirement already satisfied: idna<3,>=2.5 in /usr/local/lib/python3.6/dist-packages (from requests->kaggle) (2.10)\n",
            "- path is now set to: /root\n"
          ],
          "name": "stdout"
        }
      ]
    },
    {
      "cell_type": "markdown",
      "metadata": {
        "id": "ibexC6YIBYcH",
        "colab_type": "text"
      },
      "source": [
        "# Download dataset to colab"
      ]
    },
    {
      "cell_type": "code",
      "metadata": {
        "id": "m3VZ6ff-wmF4",
        "colab_type": "code",
        "colab": {}
      },
      "source": [
        "competetion = \"house-prices-advanced-regression-techniques\""
      ],
      "execution_count": null,
      "outputs": []
    },
    {
      "cell_type": "code",
      "metadata": {
        "id": "KukTupOwwUjD",
        "colab_type": "code",
        "colab": {
          "base_uri": "https://localhost:8080/",
          "height": 251
        },
        "outputId": "a461d936-733b-49b2-d73c-f73d6b6d4e1b"
      },
      "source": [
        "!kaggle competitions download -c $competetion"
      ],
      "execution_count": null,
      "outputs": [
        {
          "output_type": "stream",
          "text": [
            "Warning: Looks like you're using an outdated API Version, please consider updating (server 1.5.6 / client 1.5.4)\n",
            "Downloading sample_submission.csv to /root/competitions/house-prices-advanced-regression-techniques\n",
            "\r  0% 0.00/31.2k [00:00<?, ?B/s]\n",
            "100% 31.2k/31.2k [00:00<00:00, 27.7MB/s]\n",
            "Downloading test.csv to /root/competitions/house-prices-advanced-regression-techniques\n",
            "  0% 0.00/441k [00:00<?, ?B/s]\n",
            "100% 441k/441k [00:00<00:00, 61.4MB/s]\n",
            "Downloading train.csv to /root/competitions/house-prices-advanced-regression-techniques\n",
            "  0% 0.00/450k [00:00<?, ?B/s]\n",
            "100% 450k/450k [00:00<00:00, 55.6MB/s]\n",
            "Downloading data_description.txt to /root/competitions/house-prices-advanced-regression-techniques\n",
            "  0% 0.00/13.1k [00:00<?, ?B/s]\n",
            "100% 13.1k/13.1k [00:00<00:00, 13.4MB/s]\n"
          ],
          "name": "stdout"
        }
      ]
    },
    {
      "cell_type": "code",
      "metadata": {
        "id": "ycp26-Wssixd",
        "colab_type": "code",
        "colab": {}
      },
      "source": [
        "os.chdir(f\"/root/competitions/{competetion}\")"
      ],
      "execution_count": null,
      "outputs": []
    },
    {
      "cell_type": "code",
      "metadata": {
        "id": "o-biWsxmpyEf",
        "colab_type": "code",
        "colab": {
          "base_uri": "https://localhost:8080/",
          "height": 35
        },
        "outputId": "21ce3914-d2c2-4df9-89fe-4311f3f89c00"
      },
      "source": [
        "os.listdir()"
      ],
      "execution_count": null,
      "outputs": [
        {
          "output_type": "execute_result",
          "data": {
            "text/plain": [
              "['data_description.txt', 'train.csv', 'test.csv', 'sample_submission.csv']"
            ]
          },
          "metadata": {
            "tags": []
          },
          "execution_count": 6
        }
      ]
    },
    {
      "cell_type": "code",
      "metadata": {
        "id": "6jZRchsoxdwz",
        "colab_type": "code",
        "colab": {}
      },
      "source": [
        "for file in os.listdir():\n",
        "    if file.endswith(\".zip\"):\n",
        "      zip_ref = zipfile.ZipFile(file, 'r')\n",
        "      zip_ref.extractall()\n",
        "      zip_ref.close()"
      ],
      "execution_count": null,
      "outputs": []
    },
    {
      "cell_type": "code",
      "metadata": {
        "id": "oHu47yTRzimu",
        "colab_type": "code",
        "colab": {
          "base_uri": "https://localhost:8080/",
          "height": 35
        },
        "outputId": "5ea5af4f-2328-4ca5-b786-eb1c76283059"
      },
      "source": [
        "os.listdir()"
      ],
      "execution_count": null,
      "outputs": [
        {
          "output_type": "execute_result",
          "data": {
            "text/plain": [
              "['data_description.txt', 'train.csv', 'test.csv', 'sample_submission.csv']"
            ]
          },
          "metadata": {
            "tags": []
          },
          "execution_count": 8
        }
      ]
    },
    {
      "cell_type": "markdown",
      "metadata": {
        "id": "jt8wtvgjB9Wj",
        "colab_type": "text"
      },
      "source": [
        "# Copy the dataset to your Google Drive"
      ]
    },
    {
      "cell_type": "code",
      "metadata": {
        "id": "fCCHOonqCD66",
        "colab_type": "code",
        "colab": {
          "base_uri": "https://localhost:8080/",
          "height": 53
        },
        "outputId": "399082fa-9681-404a-92ac-278336e7e440"
      },
      "source": [
        "from threading import Thread\n",
        "import shutil\n",
        "\n",
        "def copytree(src, dst, symlinks=False, ignore=None):\n",
        "    print(f\"Copying {src}...\")\n",
        "    for item in os.listdir(src):\n",
        "        s = os.path.join(src, item)\n",
        "        d = os.path.join(dst, item)\n",
        "        if os.path.isdir(s):\n",
        "            shutil.copytree(s, d, symlinks, ignore)\n",
        "        else:\n",
        "            shutil.copy2(s, d)\n",
        "    print(f\"{src} Copied!\")\n",
        "\n",
        "os.chdir(\"/root/competitions\")\n",
        "dst = os.path.join(mygdrive, competetion)\n",
        "\n",
        "if not os.path.isdir(dst):\n",
        "  os.makedirs(dst)\n",
        "os.listdir()\n",
        "#Thread(target=copytree, args=[competetion, dst]).start()\n",
        "copytree(competetion, dst)\n",
        "\n"
      ],
      "execution_count": null,
      "outputs": [
        {
          "output_type": "stream",
          "text": [
            "Copying house-prices-advanced-regression-techniques...\n",
            "house-prices-advanced-regression-techniques Copied!\n"
          ],
          "name": "stdout"
        }
      ]
    },
    {
      "cell_type": "code",
      "metadata": {
        "id": "b4Y3wN71McE6",
        "colab_type": "code",
        "colab": {
          "base_uri": "https://localhost:8080/",
          "height": 35
        },
        "outputId": "1afe6c12-3ff3-4a0d-921a-1c81c90508a3"
      },
      "source": [
        "os.chdir(dst)\n",
        "os.listdir()"
      ],
      "execution_count": null,
      "outputs": [
        {
          "output_type": "execute_result",
          "data": {
            "text/plain": [
              "['data_description.txt', 'train.csv', 'test.csv', 'sample_submission.csv']"
            ]
          },
          "metadata": {
            "tags": []
          },
          "execution_count": 10
        }
      ]
    },
    {
      "cell_type": "markdown",
      "metadata": {
        "id": "RNDGqcV0zrSy",
        "colab_type": "text"
      },
      "source": [
        "## Start Here"
      ]
    },
    {
      "cell_type": "markdown",
      "metadata": {
        "id": "gNVjeeXFFeqE",
        "colab_type": "text"
      },
      "source": [
        "## Some another preparation"
      ]
    },
    {
      "cell_type": "code",
      "metadata": {
        "id": "wjkx8JQLKzxX",
        "colab_type": "code",
        "colab": {}
      },
      "source": [
        "from IPython.core.getipython import get_ipython\n",
        "def create_new_cell(contents):\n",
        "    \n",
        "    shell = get_ipython()\n",
        "\n",
        "    payload = dict(\n",
        "        source='set_next_input',\n",
        "        text=contents,\n",
        "        replace=False,\n",
        "    )\n",
        "    shell.payload_manager.write_payload(payload, single=False)"
      ],
      "execution_count": null,
      "outputs": []
    },
    {
      "cell_type": "markdown",
      "metadata": {
        "id": "yJ_hbyzyK41j",
        "colab_type": "text"
      },
      "source": [
        "## CSV read and info"
      ]
    },
    {
      "cell_type": "code",
      "metadata": {
        "id": "HkAm_CQgK99b",
        "colab_type": "code",
        "colab": {
          "base_uri": "https://localhost:8080/",
          "height": 71
        },
        "outputId": "27e9a30f-1180-4630-d020-a34843905b05"
      },
      "source": [
        "import pandas as pd\n",
        "\n",
        "for item in os.listdir():\n",
        "  \n",
        "  if os.path.isfile(item) and item.endswith(\".csv\"):\n",
        "    print(item)\n",
        "    var_name = item.split(\".\")[0].replace(\" \", \"_\")\n",
        "    create_new_cell(f\"{var_name} = pd.read_csv('{item}')\")\n",
        "    create_new_cell(f\"{var_name}.head()\")\n",
        "    create_new_cell(f\"{var_name}.info()\")"
      ],
      "execution_count": null,
      "outputs": [
        {
          "output_type": "stream",
          "text": [
            "train.csv\n",
            "test.csv\n",
            "sample_submission.csv\n"
          ],
          "name": "stdout"
        }
      ]
    },
    {
      "cell_type": "markdown",
      "metadata": {
        "id": "cVm2I28FFkIp",
        "colab_type": "text"
      },
      "source": [
        "### Data Visualization"
      ]
    },
    {
      "cell_type": "code",
      "metadata": {
        "id": "nCtO8pQiFjAl",
        "colab_type": "code",
        "colab": {
          "base_uri": "https://localhost:8080/",
          "height": 73
        },
        "outputId": "9d9bda5b-2386-43e5-f6e6-11a311ebe3af"
      },
      "source": [
        "import matplotlib.pyplot as plt\n",
        "%matplotlib inline\n",
        "import seaborn as sns\n",
        "sns.set()"
      ],
      "execution_count": null,
      "outputs": [
        {
          "output_type": "stream",
          "text": [
            "/usr/local/lib/python3.6/dist-packages/statsmodels/tools/_testing.py:19: FutureWarning: pandas.util.testing is deprecated. Use the functions in the public API at pandas.testing instead.\n",
            "  import pandas.util.testing as tm\n"
          ],
          "name": "stderr"
        }
      ]
    },
    {
      "cell_type": "code",
      "metadata": {
        "id": "nOBvNmutFiIa",
        "colab_type": "code",
        "colab": {}
      },
      "source": [
        "def bar_chart(df, features_mapping):\n",
        "    fts = []\n",
        "    for ft in features_mapping:\n",
        "      fts.append(df[df[ft]==features_mapping[ft]].value_counts())\n",
        "    df.index = list(features_mapping.keys())\n",
        "    df.plot(kind='bar', stacked=True, figsize=(10, 5))"
      ],
      "execution_count": null,
      "outputs": []
    },
    {
      "cell_type": "code",
      "metadata": {
        "id": "c82c_GOrFs0r",
        "colab_type": "code",
        "colab": {}
      },
      "source": [
        ""
      ],
      "execution_count": null,
      "outputs": []
    }
  ]
}